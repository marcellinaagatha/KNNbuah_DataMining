{
  "nbformat": 4,
  "nbformat_minor": 0,
  "metadata": {
    "colab": {
      "provenance": []
    },
    "kernelspec": {
      "name": "python3",
      "display_name": "Python 3"
    },
    "language_info": {
      "name": "python"
    }
  },
  "cells": [
    {
      "cell_type": "code",
      "execution_count": 1,
      "metadata": {
        "id": "Z3DvsZDPCIJN",
        "colab": {
          "base_uri": "https://localhost:8080/"
        },
        "outputId": "32573b38-6e2c-4e35-d8b6-4db207998f4e"
      },
      "outputs": [
        {
          "output_type": "stream",
          "name": "stdout",
          "text": [
            "Requirement already satisfied: scikit-learn in /usr/local/lib/python3.10/dist-packages (1.2.2)\n",
            "Requirement already satisfied: numpy>=1.17.3 in /usr/local/lib/python3.10/dist-packages (from scikit-learn) (1.25.2)\n",
            "Requirement already satisfied: scipy>=1.3.2 in /usr/local/lib/python3.10/dist-packages (from scikit-learn) (1.11.4)\n",
            "Requirement already satisfied: joblib>=1.1.1 in /usr/local/lib/python3.10/dist-packages (from scikit-learn) (1.4.2)\n",
            "Requirement already satisfied: threadpoolctl>=2.0.0 in /usr/local/lib/python3.10/dist-packages (from scikit-learn) (3.5.0)\n"
          ]
        }
      ],
      "source": [
        "pip install scikit-learn"
      ]
    },
    {
      "cell_type": "code",
      "source": [
        "import pandas as pd\n",
        "import numpy as np\n",
        "import matplotlib.pyplot as plt\n",
        "import math"
      ],
      "metadata": {
        "id": "N9lCiV_lJ7au"
      },
      "execution_count": 2,
      "outputs": []
    },
    {
      "cell_type": "code",
      "source": [
        "data = [\n",
        "    [0.5, 0.7, 'orange'],\n",
        "    [1.0, 1.2, 'orange'],\n",
        "    [1.2, 0.8, 'orange'],\n",
        "    [3.0, 3.5, 'grapefruit'],\n",
        "    [3.5, 4.0, 'grapefruit'],\n",
        "    [4.5, 5.0, 'grapefruit'],\n",
        "    [3.5, 3.0, 'unknown']  # Buah misterius\n",
        "]"
      ],
      "metadata": {
        "id": "RfaBVUpmJ_GC"
      },
      "execution_count": 3,
      "outputs": []
    },
    {
      "cell_type": "code",
      "source": [
        "df = pd.DataFrame(data, columns=['x', 'y', 'label'])\n",
        "print(df)"
      ],
      "metadata": {
        "colab": {
          "base_uri": "https://localhost:8080/"
        },
        "id": "lleR36X4KCQ8",
        "outputId": "e33191ca-e79f-42d8-b229-0f8d2e7ef306"
      },
      "execution_count": 5,
      "outputs": [
        {
          "output_type": "stream",
          "name": "stdout",
          "text": [
            "     x    y       label\n",
            "0  0.5  0.7      orange\n",
            "1  1.0  1.2      orange\n",
            "2  1.2  0.8      orange\n",
            "3  3.0  3.5  grapefruit\n",
            "4  3.5  4.0  grapefruit\n",
            "5  4.5  5.0  grapefruit\n",
            "6  3.5  3.0     unknown\n"
          ]
        }
      ]
    },
    {
      "cell_type": "code",
      "source": [
        "colors = {'orange':'red', 'grapefruit':'blue', 'unknown':'yellow'}\n",
        "plt.scatter(df['x'], df['y'], c=df['label'].apply(lambda x: colors[x]))\n",
        "plt.xlabel('X')\n",
        "plt.ylabel('Y')\n",
        "plt.show()"
      ],
      "metadata": {
        "colab": {
          "base_uri": "https://localhost:8080/",
          "height": 449
        },
        "id": "C9jvdOD_KHVL",
        "outputId": "0ca47154-2b73-4538-cc2d-b835862bc428"
      },
      "execution_count": 6,
      "outputs": [
        {
          "output_type": "display_data",
          "data": {
            "text/plain": [
              "<Figure size 640x480 with 1 Axes>"
            ],
            "image/png": "[encoded data removed]"
          },
          "metadata": {}
        }
      ]
    },
    {
      "cell_type": "code",
      "source": [
        "def euclidean_distance(point1, point2):\n",
        "    return math.sqrt((point1[0] - point2[0]) ** 2 + (point1[1] - point2[1]) ** 2)\n",
        "\n",
        "distances = []\n",
        "unknown = df.iloc[-1][['x', 'y']].tolist()  # Titik buah misterius\n",
        "for index, row in df.iterrows():\n",
        "    if row['label'] != 'unknown':\n",
        "        distance = euclidean_distance(unknown, row[['x', 'y']].tolist())\n",
        "        distances.append((distance, row['label']))\n",
        "\n",
        "# Print jarak yang dihitung\n",
        "for distance in distances:\n",
        "    print(f\"Distance: {distance[0]}, Label: {distance[1]}\")"
      ],
      "metadata": {
        "colab": {
          "base_uri": "https://localhost:8080/"
        },
        "id": "G6bbbi51KLlK",
        "outputId": "a2517b64-412c-4aee-c78e-c59b2eb864d5"
      },
      "execution_count": 7,
      "outputs": [
        {
          "output_type": "stream",
          "name": "stdout",
          "text": [
            "Distance: 3.7802116342871597, Label: orange\n",
            "Distance: 3.0805843601498726, Label: orange\n",
            "Distance: 3.1827660925679098, Label: orange\n",
            "Distance: 0.7071067811865476, Label: grapefruit\n",
            "Distance: 1.0, Label: grapefruit\n",
            "Distance: 2.23606797749979, Label: grapefruit\n"
          ]
        }
      ]
    },
    {
      "cell_type": "code",
      "source": [
        "# Mengurutkan jarak dan memilih 3 tetangga terdekat\n",
        "k = 3\n",
        "sorted_distances = sorted(distances, key=lambda x: x[0])\n",
        "nearest_neighbors = sorted_distances[:k]\n",
        "\n",
        "# Menentukan label dari buah misterius berdasarkan tetangga terdekat\n",
        "labels = [label for _, label in nearest_neighbors]\n",
        "predicted_label = max(set(labels), key=labels.count)\n",
        "print(f\"The predicted label for the unknown fruit is: {predicted_label}\")"
      ],
      "metadata": {
        "colab": {
          "base_uri": "https://localhost:8080/"
        },
        "id": "Ihm8DCvGKNjz",
        "outputId": "a7e35de6-806d-4e0b-a9db-b608fe83f1e5"
      },
      "execution_count": 8,
      "outputs": [
        {
          "output_type": "stream",
          "name": "stdout",
          "text": [
            "The predicted label for the unknown fruit is: grapefruit\n"
          ]
        }
      ]
    },
    {
      "cell_type": "code",
      "source": [
        "df['distance'] = [dist[0] if dist[1] != 'unknown' else None for dist in distances] + [None]\n",
        "df.to_excel('knn_results.xlsx', index=False)"
      ],
      "metadata": {
        "id": "HVg3am86Ka3t"
      },
      "execution_count": 9,
      "outputs": []
    }
  ]
}